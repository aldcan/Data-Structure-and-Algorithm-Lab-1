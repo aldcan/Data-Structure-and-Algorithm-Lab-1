{
 "cells": [
  {
   "cell_type": "markdown",
   "metadata": {},
   "source": [
    "Data Structure and Algorithm\n",
    "Lab Activity: Python Review\n",
    "Programmed by: Aldrian P. Cabaccan, BSCPE 2-3"
   ]
  },
  {
   "cell_type": "markdown",
   "metadata": {},
   "source": [
    "Exercise 1: Temperature Converter\n",
    "Create a program that converts temperatures between Celsius and Fahrenheit.\n",
    "Instructions:\n",
    "1.\tAsk the user to input a temperature.\n",
    "2.\tAsk the user to select the conversion type: from Celsius to Fahrenheit or from Fahrenheit to Celsius.\n",
    "3.\tPerform the appropriate conversion and print the result."
   ]
  },
  {
   "cell_type": "code",
   "execution_count": null,
   "metadata": {},
   "outputs": [],
   "source": [
    "print (\"Temperature Converter\\n\")\n",
    "\n",
    "while True:\n",
    "    try:\n",
    "# Prompts user for temperature input.\n",
    "        temp = float(input(\"Enter temperature: \"))\n",
    "        break\n",
    "# Error tracking and loop until input is valid.\n",
    "    except ValueError:\n",
    "        print (\"Invalid input. Please enter numbers only.\")\n",
    "        \n",
    "print (\"Conversion Type \\n(1) Celsius to Fahrenheit \\n(2) Fahrenheit to Celsius\")\n",
    "while True:\n",
    "# Prompts user for the conversion type.\n",
    "    choice = input(\"Select conversion type (1 or 2): \")\n",
    "# Error tracking for the conversion type.\n",
    "    if choice in [\"1\", \"2\"]:\n",
    "        break \n",
    "    else:\n",
    "        print(\"Invalid choice. Select 1 or 2 only.\")\n",
    "\n",
    "# Performs the calculations for the celsius to fahrenheit conversion.\n",
    "if choice == \"1\":\n",
    "    fahrenheit = (temp * 9/5) + 32\n",
    "    print (f\"{fahrenheit} °F\")\n",
    "else:\n",
    "# Performs the calculations for the fahrenheit to celsius conversion.\n",
    "    celsius = (temp - 32) * 5/9 \n",
    "    print (f\"{celsius} °C\")\n",
    "\n"
   ]
  },
  {
   "cell_type": "markdown",
   "metadata": {},
   "source": [
    "Exercise 2: Ohm’s Law Calculator\n",
    "Instructions:\n",
    "1.\tAsk the user what they want to calculate: Voltage, Current, or Resistance.\n",
    "2.\tBased on their choice, prompt the user to input the appropriate values.\n",
    "3.\tUse Ohm's Law to calculate the missing variable and display the result.\n",
    "4.\tHandle cases where division by zero might occur."
   ]
  },
  {
   "cell_type": "code",
   "execution_count": null,
   "metadata": {},
   "outputs": [],
   "source": [
    "print(\"Ohm's Law Calculator: \\n(V) Voltage \\n(I) Current \\n(R) Resistance\")\n",
    "\n",
    "# Prompts user for the unit to calculate.\n",
    "while True:\n",
    "    unit = input(\"Select unit to calculate (V, I, or R): \").upper()\n",
    "    if unit in [\"V\", \"I\", \"R\"]:\n",
    "        break\n",
    "    else:\n",
    "        print(\"Invalid input. Select V, I, or R only.\")\n",
    "\n",
    "# Performs the calculation for Voltage, Current, or Resistance.\n",
    "while True:   \n",
    "    try:\n",
    "        if unit == \"V\":\n",
    "            I = float(input(\"Enter the value of current in Amperes: \"))\n",
    "            R = float(input(\"Enter the value of resistance in Ohms: \"))\n",
    "            V = I * R\n",
    "            print(f\"{V} Volts\")\n",
    "            break  \n",
    "\n",
    "        elif unit == \"I\":\n",
    "            V = float(input(\"Enter the value of voltage in Volts: \"))\n",
    "            R = float(input(\"Enter the value of resistance in Ohms: \"))\n",
    "            I = V / R\n",
    "            print(f\"{I} Amperes\")\n",
    "            break  \n",
    "\n",
    "        elif unit == \"R\":\n",
    "            V = float(input(\"Enter the value of voltage in Volts: \"))\n",
    "            I = float(input(\"Enter the value of current in Amperes: \"))\n",
    "            R = V / I\n",
    "            print(f\"{R} Ohms\")\n",
    "            break \n",
    "            \n",
    "    # Handles Zero Division Error.\n",
    "    except ZeroDivisionError:\n",
    "        print(\"Zero Division Error. You cannot divide by zero.\")\n",
    "    # Handles invalid input values.\n",
    "    except ValueError:\n",
    "        print(\"\\nInvalid value. Enter valid values only.\\n\")"
   ]
  },
  {
   "cell_type": "markdown",
   "metadata": {},
   "source": [
    "Exercise 3:  Diamond Shape (advance topic):\n",
    "\n",
    "Write a Python function named print_diamond that takes an odd integer n as an argument and prints a diamond shape with a width of n using the * character.\n",
    "For n = 5, the output should be:\n",
    "Note: If an even number is passed, the function should return \"Please provide an odd integer.\"\n"
   ]
  },
  {
   "cell_type": "code",
   "execution_count": null,
   "metadata": {},
   "outputs": [],
   "source": [
    "def print_diamond():\n",
    "# Prompts user for odd integer input.\n",
    "    n = int(input(\"Enter an odd integer: \"))\n",
    "# Error tracking for non-odd integer input.\n",
    "    if n % 2 == 0:\n",
    "        print (\"Please enter an odd integer.\")\n",
    "        return\n",
    "\n",
    "# Creates the upper part of the diamond that covers line 1 to line 3.\n",
    "    for i in range(n // 2 + 1):\n",
    "        spaces, stars = n // 2 - i, i * 2 + 1\n",
    "        print(' ' * spaces + '*' * stars)\n",
    "        \n",
    "# Creates the lower part of the diamond that covers line 4 to line 5\n",
    "    for i in range(n // 2 - 1, -1, -1):\n",
    "        spaces, stars = n // 2 - i, i * 2 + 1\n",
    "        print(' ' * spaces + '*' * stars)\n",
    "\n",
    "print_diamond()\n",
    "        "
   ]
  }
 ],
 "metadata": {
  "kernelspec": {
   "display_name": "Python 3",
   "language": "python",
   "name": "python3"
  },
  "language_info": {
   "codemirror_mode": {
    "name": "ipython",
    "version": 3
   },
   "file_extension": ".py",
   "mimetype": "text/x-python",
   "name": "python",
   "nbconvert_exporter": "python",
   "pygments_lexer": "ipython3",
   "version": "3.12.6"
  }
 },
 "nbformat": 4,
 "nbformat_minor": 2
}
